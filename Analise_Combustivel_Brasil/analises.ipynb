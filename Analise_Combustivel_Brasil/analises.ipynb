{
 "cells": [
  {
   "cell_type": "markdown",
   "id": "e96772f6",
   "metadata": {},
   "source": [
    "### 1. Carregar os conjuntos de dados `gasolina_2000+.csv` e `gasolina_2010+.csv` em dois DataFrames diferentes e combiná-los em um único DataFrame."
   ]
  },
  {
   "cell_type": "code",
   "execution_count": 2,
   "id": "c7decfae-2c39-48fb-8412-6dd2e789f28e",
   "metadata": {},
   "outputs": [
    {
     "name": "stderr",
     "output_type": "stream",
     "text": [
      "C:\\Users\\higor\\AppData\\Local\\Temp\\ipykernel_28400\\2055329547.py:3: DtypeWarning: Columns (12,14,15,16,17,18) have mixed types. Specify dtype option on import or set low_memory=False.\n",
      "  df2 = pd.read_csv(\"gasolina_2010+.csv\", index_col=0)\n"
     ]
    }
   ],
   "source": [
    "import pandas as pd\n",
    "df1 = pd.read_csv(\"gasolina_2000+.csv\", index_col=0)\n",
    "df2 = pd.read_csv(\"gasolina_2010+.csv\", index_col=0)\n",
    "\n",
    "df = pd.concat([df1, df2])"
   ]
  },
  {
   "cell_type": "markdown",
   "id": "6cd74f39-565b-47ea-9171-9679eb964b1c",
   "metadata": {},
   "source": [
    "### 2. Investigar as colunas e entender o conjunto de dados usando `head()` e `info()`."
   ]
  },
  {
   "cell_type": "code",
   "execution_count": 3,
   "id": "b7e569b5-212e-4e0f-9531-6c0d48b953c6",
   "metadata": {},
   "outputs": [
    {
     "data": {
      "text/html": [
       "<div>\n",
       "<style scoped>\n",
       "    .dataframe tbody tr th:only-of-type {\n",
       "        vertical-align: middle;\n",
       "    }\n",
       "\n",
       "    .dataframe tbody tr th {\n",
       "        vertical-align: top;\n",
       "    }\n",
       "\n",
       "    .dataframe thead th {\n",
       "        text-align: right;\n",
       "    }\n",
       "</style>\n",
       "<table border=\"1\" class=\"dataframe\">\n",
       "  <thead>\n",
       "    <tr style=\"text-align: right;\">\n",
       "      <th></th>\n",
       "      <th>DATA INICIAL</th>\n",
       "      <th>DATA FINAL</th>\n",
       "      <th>REGIÃO</th>\n",
       "      <th>ESTADO</th>\n",
       "      <th>PRODUTO</th>\n",
       "      <th>NÚMERO DE POSTOS PESQUISADOS</th>\n",
       "      <th>UNIDADE DE MEDIDA</th>\n",
       "      <th>PREÇO MÉDIO REVENDA</th>\n",
       "      <th>DESVIO PADRÃO REVENDA</th>\n",
       "      <th>PREÇO MÍNIMO REVENDA</th>\n",
       "      <th>PREÇO MÁXIMO REVENDA</th>\n",
       "      <th>MARGEM MÉDIA REVENDA</th>\n",
       "      <th>COEF DE VARIAÇÃO REVENDA</th>\n",
       "      <th>PREÇO MÉDIO DISTRIBUIÇÃO</th>\n",
       "      <th>DESVIO PADRÃO DISTRIBUIÇÃO</th>\n",
       "      <th>PREÇO MÍNIMO DISTRIBUIÇÃO</th>\n",
       "      <th>PREÇO MÁXIMO DISTRIBUIÇÃO</th>\n",
       "      <th>COEF DE VARIAÇÃO DISTRIBUIÇÃO</th>\n",
       "    </tr>\n",
       "  </thead>\n",
       "  <tbody>\n",
       "    <tr>\n",
       "      <th>0</th>\n",
       "      <td>2004-05-09</td>\n",
       "      <td>2004-05-15</td>\n",
       "      <td>CENTRO OESTE</td>\n",
       "      <td>DISTRITO FEDERAL</td>\n",
       "      <td>ETANOL HIDRATADO</td>\n",
       "      <td>127</td>\n",
       "      <td>R$/l</td>\n",
       "      <td>1.288</td>\n",
       "      <td>0.016</td>\n",
       "      <td>1.19</td>\n",
       "      <td>1.350</td>\n",
       "      <td>0.463</td>\n",
       "      <td>0.012</td>\n",
       "      <td>0.825</td>\n",
       "      <td>0.11</td>\n",
       "      <td>0.4201</td>\n",
       "      <td>0.9666</td>\n",
       "      <td>0.133</td>\n",
       "    </tr>\n",
       "    <tr>\n",
       "      <th>1</th>\n",
       "      <td>2004-05-09</td>\n",
       "      <td>2004-05-15</td>\n",
       "      <td>CENTRO OESTE</td>\n",
       "      <td>GOIAS</td>\n",
       "      <td>ETANOL HIDRATADO</td>\n",
       "      <td>387</td>\n",
       "      <td>R$/l</td>\n",
       "      <td>1.162</td>\n",
       "      <td>0.114</td>\n",
       "      <td>0.89</td>\n",
       "      <td>1.449</td>\n",
       "      <td>0.399</td>\n",
       "      <td>0.098</td>\n",
       "      <td>0.763</td>\n",
       "      <td>0.088</td>\n",
       "      <td>0.5013</td>\n",
       "      <td>1.05</td>\n",
       "      <td>0.115</td>\n",
       "    </tr>\n",
       "    <tr>\n",
       "      <th>2</th>\n",
       "      <td>2004-05-09</td>\n",
       "      <td>2004-05-15</td>\n",
       "      <td>CENTRO OESTE</td>\n",
       "      <td>MATO GROSSO</td>\n",
       "      <td>ETANOL HIDRATADO</td>\n",
       "      <td>192</td>\n",
       "      <td>R$/l</td>\n",
       "      <td>1.389</td>\n",
       "      <td>0.097</td>\n",
       "      <td>1.18</td>\n",
       "      <td>1.760</td>\n",
       "      <td>0.419</td>\n",
       "      <td>0.070</td>\n",
       "      <td>0.97</td>\n",
       "      <td>0.095</td>\n",
       "      <td>0.5614</td>\n",
       "      <td>1.161</td>\n",
       "      <td>0.098</td>\n",
       "    </tr>\n",
       "    <tr>\n",
       "      <th>3</th>\n",
       "      <td>2004-05-09</td>\n",
       "      <td>2004-05-15</td>\n",
       "      <td>CENTRO OESTE</td>\n",
       "      <td>MATO GROSSO DO SUL</td>\n",
       "      <td>ETANOL HIDRATADO</td>\n",
       "      <td>162</td>\n",
       "      <td>R$/l</td>\n",
       "      <td>1.262</td>\n",
       "      <td>0.070</td>\n",
       "      <td>1.09</td>\n",
       "      <td>1.509</td>\n",
       "      <td>0.432</td>\n",
       "      <td>0.055</td>\n",
       "      <td>0.83</td>\n",
       "      <td>0.119</td>\n",
       "      <td>0.5991</td>\n",
       "      <td>1.22242</td>\n",
       "      <td>0.143</td>\n",
       "    </tr>\n",
       "    <tr>\n",
       "      <th>4</th>\n",
       "      <td>2004-05-09</td>\n",
       "      <td>2004-05-15</td>\n",
       "      <td>NORDESTE</td>\n",
       "      <td>ALAGOAS</td>\n",
       "      <td>ETANOL HIDRATADO</td>\n",
       "      <td>103</td>\n",
       "      <td>R$/l</td>\n",
       "      <td>1.181</td>\n",
       "      <td>0.078</td>\n",
       "      <td>1.05</td>\n",
       "      <td>1.400</td>\n",
       "      <td>0.24</td>\n",
       "      <td>0.066</td>\n",
       "      <td>0.941</td>\n",
       "      <td>0.077</td>\n",
       "      <td>0.7441</td>\n",
       "      <td>1.0317</td>\n",
       "      <td>0.082</td>\n",
       "    </tr>\n",
       "  </tbody>\n",
       "</table>\n",
       "</div>"
      ],
      "text/plain": [
       "  DATA INICIAL  DATA FINAL        REGIÃO              ESTADO  \\\n",
       "0   2004-05-09  2004-05-15  CENTRO OESTE    DISTRITO FEDERAL   \n",
       "1   2004-05-09  2004-05-15  CENTRO OESTE               GOIAS   \n",
       "2   2004-05-09  2004-05-15  CENTRO OESTE         MATO GROSSO   \n",
       "3   2004-05-09  2004-05-15  CENTRO OESTE  MATO GROSSO DO SUL   \n",
       "4   2004-05-09  2004-05-15      NORDESTE             ALAGOAS   \n",
       "\n",
       "            PRODUTO  NÚMERO DE POSTOS PESQUISADOS UNIDADE DE MEDIDA  \\\n",
       "0  ETANOL HIDRATADO                           127              R$/l   \n",
       "1  ETANOL HIDRATADO                           387              R$/l   \n",
       "2  ETANOL HIDRATADO                           192              R$/l   \n",
       "3  ETANOL HIDRATADO                           162              R$/l   \n",
       "4  ETANOL HIDRATADO                           103              R$/l   \n",
       "\n",
       "   PREÇO MÉDIO REVENDA  DESVIO PADRÃO REVENDA  PREÇO MÍNIMO REVENDA  \\\n",
       "0                1.288                  0.016                  1.19   \n",
       "1                1.162                  0.114                  0.89   \n",
       "2                1.389                  0.097                  1.18   \n",
       "3                1.262                  0.070                  1.09   \n",
       "4                1.181                  0.078                  1.05   \n",
       "\n",
       "   PREÇO MÁXIMO REVENDA MARGEM MÉDIA REVENDA  COEF DE VARIAÇÃO REVENDA  \\\n",
       "0                 1.350                0.463                     0.012   \n",
       "1                 1.449                0.399                     0.098   \n",
       "2                 1.760                0.419                     0.070   \n",
       "3                 1.509                0.432                     0.055   \n",
       "4                 1.400                 0.24                     0.066   \n",
       "\n",
       "  PREÇO MÉDIO DISTRIBUIÇÃO DESVIO PADRÃO DISTRIBUIÇÃO  \\\n",
       "0                    0.825                       0.11   \n",
       "1                    0.763                      0.088   \n",
       "2                     0.97                      0.095   \n",
       "3                     0.83                      0.119   \n",
       "4                    0.941                      0.077   \n",
       "\n",
       "  PREÇO MÍNIMO DISTRIBUIÇÃO PREÇO MÁXIMO DISTRIBUIÇÃO  \\\n",
       "0                    0.4201                    0.9666   \n",
       "1                    0.5013                      1.05   \n",
       "2                    0.5614                     1.161   \n",
       "3                    0.5991                   1.22242   \n",
       "4                    0.7441                    1.0317   \n",
       "\n",
       "  COEF DE VARIAÇÃO DISTRIBUIÇÃO  \n",
       "0                         0.133  \n",
       "1                         0.115  \n",
       "2                         0.098  \n",
       "3                         0.143  \n",
       "4                         0.082  "
      ]
     },
     "execution_count": 3,
     "metadata": {},
     "output_type": "execute_result"
    }
   ],
   "source": [
    "df.head(5)"
   ]
  },
  {
   "cell_type": "code",
   "execution_count": 4,
   "id": "079e63b5-4836-4332-86ee-11c804543571",
   "metadata": {},
   "outputs": [
    {
     "name": "stdout",
     "output_type": "stream",
     "text": [
      "<class 'pandas.core.frame.DataFrame'>\n",
      "Index: 120823 entries, 0 to 120822\n",
      "Data columns (total 18 columns):\n",
      " #   Column                         Non-Null Count   Dtype  \n",
      "---  ------                         --------------   -----  \n",
      " 0   DATA INICIAL                   120823 non-null  object \n",
      " 1   DATA FINAL                     120823 non-null  object \n",
      " 2   REGIÃO                         120823 non-null  object \n",
      " 3   ESTADO                         120823 non-null  object \n",
      " 4   PRODUTO                        120823 non-null  object \n",
      " 5   NÚMERO DE POSTOS PESQUISADOS   120823 non-null  int64  \n",
      " 6   UNIDADE DE MEDIDA              120823 non-null  object \n",
      " 7   PREÇO MÉDIO REVENDA            120823 non-null  float64\n",
      " 8   DESVIO PADRÃO REVENDA          120823 non-null  float64\n",
      " 9   PREÇO MÍNIMO REVENDA           120823 non-null  float64\n",
      " 10  PREÇO MÁXIMO REVENDA           120823 non-null  float64\n",
      " 11  MARGEM MÉDIA REVENDA           120823 non-null  object \n",
      " 12  COEF DE VARIAÇÃO REVENDA       120823 non-null  float64\n",
      " 13  PREÇO MÉDIO DISTRIBUIÇÃO       120823 non-null  object \n",
      " 14  DESVIO PADRÃO DISTRIBUIÇÃO     120823 non-null  object \n",
      " 15  PREÇO MÍNIMO DISTRIBUIÇÃO      120823 non-null  object \n",
      " 16  PREÇO MÁXIMO DISTRIBUIÇÃO      120823 non-null  object \n",
      " 17  COEF DE VARIAÇÃO DISTRIBUIÇÃO  120823 non-null  object \n",
      "dtypes: float64(5), int64(1), object(12)\n",
      "memory usage: 17.5+ MB\n"
     ]
    }
   ],
   "source": [
    "df.info()"
   ]
  },
  {
   "cell_type": "markdown",
   "id": "2bcb2d2f-1c32-4583-8981-ca5b6ed0e048",
   "metadata": {},
   "source": [
    "### 3. Selecionar a terceira entrada da coluna `DATA INICIAL` e verificar seu tipo."
   ]
  },
  {
   "cell_type": "code",
   "execution_count": 5,
   "id": "c4399a8c-0ad3-4b6e-bcd8-d701438892fe",
   "metadata": {},
   "outputs": [
    {
     "data": {
      "text/plain": [
       "str"
      ]
     },
     "execution_count": 5,
     "metadata": {},
     "output_type": "execute_result"
    }
   ],
   "source": [
    "type(df[\"DATA INICIAL\"].iloc[2])"
   ]
  },
  {
   "cell_type": "markdown",
   "id": "7eda8c87-eef7-4b66-97ee-46629b214fc7",
   "metadata": {},
   "source": [
    "### 4. Converter as colunas `DATA INICIAL` e `DATA FINAL` para `Timestamp` / `Datetime`, em vez de `String`."
   ]
  },
  {
   "cell_type": "code",
   "execution_count": 32,
   "id": "6813ae62-bdd0-4f73-8278-7fa0e0027f9c",
   "metadata": {},
   "outputs": [],
   "source": [
    "df[\"DATA INICIAL\"] = pd.to_datetime(df[\"DATA INICIAL\"])\n",
    "df[\"DATA FINAL\"] = pd.to_datetime(df[\"DATA FINAL\"])"
   ]
  },
  {
   "cell_type": "code",
   "execution_count": 33,
   "id": "17711189-c267-48e3-84f9-ed9df99e104a",
   "metadata": {},
   "outputs": [
    {
     "data": {
      "text/plain": [
       "pandas._libs.tslibs.timestamps.Timestamp"
      ]
     },
     "execution_count": 33,
     "metadata": {},
     "output_type": "execute_result"
    }
   ],
   "source": [
    "type(df[\"DATA INICIAL\"].iloc[2])"
   ]
  },
  {
   "cell_type": "markdown",
   "id": "2f9aaafa-f9a4-4f07-9bc6-86e5911c863c",
   "metadata": {},
   "source": [
    "### 5. Criar uma nova coluna para representar o ano e o mês (`aaaa-mm`), utilizando a coluna `DATA FINAL` como referência."
   ]
  },
  {
   "cell_type": "code",
   "execution_count": 8,
   "id": "03f15a92-bae5-4256-add1-a7c97fe9f01d",
   "metadata": {},
   "outputs": [
    {
     "data": {
      "text/plain": [
       "0         2004-05\n",
       "1         2004-05\n",
       "2         2004-05\n",
       "3         2004-05\n",
       "4         2004-05\n",
       "           ...   \n",
       "120818    2021-05\n",
       "120819    2021-05\n",
       "120820    2021-05\n",
       "120821    2021-05\n",
       "120822    2021-05\n",
       "Name: ANO-MES, Length: 120823, dtype: object"
      ]
     },
     "execution_count": 8,
     "metadata": {},
     "output_type": "execute_result"
    }
   ],
   "source": [
    "df['ANO-MES'] = df['DATA FINAL'].dt.strftime('%Y-%m')\n",
    "df['ANO-MES']"
   ]
  },
  {
   "cell_type": "markdown",
   "id": "7d25e880-b153-4cce-8268-8388c3de52a3",
   "metadata": {},
   "source": [
    "### 6. Listar todos os tipos de produtos contidos na base de dados."
   ]
  },
  {
   "cell_type": "code",
   "execution_count": 9,
   "id": "f953fa16-59bd-40d9-90c0-af138acb4191",
   "metadata": {},
   "outputs": [
    {
     "data": {
      "text/plain": [
       "PRODUTO\n",
       "GASOLINA COMUM        23570\n",
       "GLP                   23561\n",
       "ETANOL HIDRATADO      23440\n",
       "ÓLEO DIESEL           21194\n",
       "GNV                   14469\n",
       "ÓLEO DIESEL S10        9113\n",
       "OLEO DIESEL S10        2376\n",
       "OLEO DIESEL            2351\n",
       "GASOLINA ADITIVADA      749\n",
       "Name: count, dtype: int64"
      ]
     },
     "execution_count": 9,
     "metadata": {},
     "output_type": "execute_result"
    }
   ],
   "source": [
    "df[\"PRODUTO\"].value_counts()"
   ]
  },
  {
   "cell_type": "markdown",
   "id": "fab0300f-7c49-48be-b95a-948601713229",
   "metadata": {},
   "source": [
    "### 7. Filtrar o DataFrame para obter apenas dados da \"GASOLINA COMUM\" e gravar em uma nova variável."
   ]
  },
  {
   "cell_type": "code",
   "execution_count": 10,
   "id": "a0a0f0e7-f11f-42a8-816f-c96eab4e812c",
   "metadata": {},
   "outputs": [],
   "source": [
    "gas_comum = df[df[\"PRODUTO\"] == 'GASOLINA COMUM']"
   ]
  },
  {
   "cell_type": "code",
   "execution_count": 11,
   "id": "6f1a53ad-2f8e-48b3-b1f3-05698caec5a7",
   "metadata": {},
   "outputs": [
    {
     "data": {
      "text/html": [
       "<div>\n",
       "<style scoped>\n",
       "    .dataframe tbody tr th:only-of-type {\n",
       "        vertical-align: middle;\n",
       "    }\n",
       "\n",
       "    .dataframe tbody tr th {\n",
       "        vertical-align: top;\n",
       "    }\n",
       "\n",
       "    .dataframe thead th {\n",
       "        text-align: right;\n",
       "    }\n",
       "</style>\n",
       "<table border=\"1\" class=\"dataframe\">\n",
       "  <thead>\n",
       "    <tr style=\"text-align: right;\">\n",
       "      <th></th>\n",
       "      <th>DATA INICIAL</th>\n",
       "      <th>DATA FINAL</th>\n",
       "      <th>REGIÃO</th>\n",
       "      <th>ESTADO</th>\n",
       "      <th>PRODUTO</th>\n",
       "      <th>NÚMERO DE POSTOS PESQUISADOS</th>\n",
       "      <th>UNIDADE DE MEDIDA</th>\n",
       "      <th>PREÇO MÉDIO REVENDA</th>\n",
       "      <th>DESVIO PADRÃO REVENDA</th>\n",
       "      <th>PREÇO MÍNIMO REVENDA</th>\n",
       "      <th>PREÇO MÁXIMO REVENDA</th>\n",
       "      <th>MARGEM MÉDIA REVENDA</th>\n",
       "      <th>COEF DE VARIAÇÃO REVENDA</th>\n",
       "      <th>PREÇO MÉDIO DISTRIBUIÇÃO</th>\n",
       "      <th>DESVIO PADRÃO DISTRIBUIÇÃO</th>\n",
       "      <th>PREÇO MÍNIMO DISTRIBUIÇÃO</th>\n",
       "      <th>PREÇO MÁXIMO DISTRIBUIÇÃO</th>\n",
       "      <th>COEF DE VARIAÇÃO DISTRIBUIÇÃO</th>\n",
       "      <th>ANO-MES</th>\n",
       "    </tr>\n",
       "  </thead>\n",
       "  <tbody>\n",
       "    <tr>\n",
       "      <th>12064</th>\n",
       "      <td>2004-05-09</td>\n",
       "      <td>2004-05-15</td>\n",
       "      <td>CENTRO OESTE</td>\n",
       "      <td>DISTRITO FEDERAL</td>\n",
       "      <td>GASOLINA COMUM</td>\n",
       "      <td>128</td>\n",
       "      <td>R$/l</td>\n",
       "      <td>2.029</td>\n",
       "      <td>0.007</td>\n",
       "      <td>1.99</td>\n",
       "      <td>2.070</td>\n",
       "      <td>0.318</td>\n",
       "      <td>0.003</td>\n",
       "      <td>1.711</td>\n",
       "      <td>0.02</td>\n",
       "      <td>1.651</td>\n",
       "      <td>1.7427</td>\n",
       "      <td>0.012</td>\n",
       "      <td>2004-05</td>\n",
       "    </tr>\n",
       "    <tr>\n",
       "      <th>12065</th>\n",
       "      <td>2004-05-09</td>\n",
       "      <td>2004-05-15</td>\n",
       "      <td>CENTRO OESTE</td>\n",
       "      <td>GOIAS</td>\n",
       "      <td>GASOLINA COMUM</td>\n",
       "      <td>395</td>\n",
       "      <td>R$/l</td>\n",
       "      <td>2.025</td>\n",
       "      <td>0.062</td>\n",
       "      <td>1.85</td>\n",
       "      <td>2.220</td>\n",
       "      <td>0.296</td>\n",
       "      <td>0.031</td>\n",
       "      <td>1.729</td>\n",
       "      <td>0.036</td>\n",
       "      <td>1.6643</td>\n",
       "      <td>1.915</td>\n",
       "      <td>0.021</td>\n",
       "      <td>2004-05</td>\n",
       "    </tr>\n",
       "    <tr>\n",
       "      <th>12066</th>\n",
       "      <td>2004-05-09</td>\n",
       "      <td>2004-05-15</td>\n",
       "      <td>CENTRO OESTE</td>\n",
       "      <td>MATO GROSSO</td>\n",
       "      <td>GASOLINA COMUM</td>\n",
       "      <td>194</td>\n",
       "      <td>R$/l</td>\n",
       "      <td>2.358</td>\n",
       "      <td>0.066</td>\n",
       "      <td>2.00</td>\n",
       "      <td>2.540</td>\n",
       "      <td>0.472</td>\n",
       "      <td>0.028</td>\n",
       "      <td>1.886</td>\n",
       "      <td>0.068</td>\n",
       "      <td>1.75</td>\n",
       "      <td>2.0713</td>\n",
       "      <td>0.036</td>\n",
       "      <td>2004-05</td>\n",
       "    </tr>\n",
       "    <tr>\n",
       "      <th>12067</th>\n",
       "      <td>2004-05-09</td>\n",
       "      <td>2004-05-15</td>\n",
       "      <td>CENTRO OESTE</td>\n",
       "      <td>MATO GROSSO DO SUL</td>\n",
       "      <td>GASOLINA COMUM</td>\n",
       "      <td>166</td>\n",
       "      <td>R$/l</td>\n",
       "      <td>2.120</td>\n",
       "      <td>0.075</td>\n",
       "      <td>1.97</td>\n",
       "      <td>2.440</td>\n",
       "      <td>0.325</td>\n",
       "      <td>0.035</td>\n",
       "      <td>1.795</td>\n",
       "      <td>0.033</td>\n",
       "      <td>1.70701</td>\n",
       "      <td>1.9703</td>\n",
       "      <td>0.018</td>\n",
       "      <td>2004-05</td>\n",
       "    </tr>\n",
       "    <tr>\n",
       "      <th>12068</th>\n",
       "      <td>2004-05-09</td>\n",
       "      <td>2004-05-15</td>\n",
       "      <td>NORDESTE</td>\n",
       "      <td>ALAGOAS</td>\n",
       "      <td>GASOLINA COMUM</td>\n",
       "      <td>106</td>\n",
       "      <td>R$/l</td>\n",
       "      <td>2.090</td>\n",
       "      <td>0.034</td>\n",
       "      <td>2.00</td>\n",
       "      <td>2.159</td>\n",
       "      <td>0.35</td>\n",
       "      <td>0.016</td>\n",
       "      <td>1.74</td>\n",
       "      <td>0.042</td>\n",
       "      <td>1.6789</td>\n",
       "      <td>1.918</td>\n",
       "      <td>0.024</td>\n",
       "      <td>2004-05</td>\n",
       "    </tr>\n",
       "  </tbody>\n",
       "</table>\n",
       "</div>"
      ],
      "text/plain": [
       "      DATA INICIAL DATA FINAL        REGIÃO              ESTADO  \\\n",
       "12064   2004-05-09 2004-05-15  CENTRO OESTE    DISTRITO FEDERAL   \n",
       "12065   2004-05-09 2004-05-15  CENTRO OESTE               GOIAS   \n",
       "12066   2004-05-09 2004-05-15  CENTRO OESTE         MATO GROSSO   \n",
       "12067   2004-05-09 2004-05-15  CENTRO OESTE  MATO GROSSO DO SUL   \n",
       "12068   2004-05-09 2004-05-15      NORDESTE             ALAGOAS   \n",
       "\n",
       "              PRODUTO  NÚMERO DE POSTOS PESQUISADOS UNIDADE DE MEDIDA  \\\n",
       "12064  GASOLINA COMUM                           128              R$/l   \n",
       "12065  GASOLINA COMUM                           395              R$/l   \n",
       "12066  GASOLINA COMUM                           194              R$/l   \n",
       "12067  GASOLINA COMUM                           166              R$/l   \n",
       "12068  GASOLINA COMUM                           106              R$/l   \n",
       "\n",
       "       PREÇO MÉDIO REVENDA  DESVIO PADRÃO REVENDA  PREÇO MÍNIMO REVENDA  \\\n",
       "12064                2.029                  0.007                  1.99   \n",
       "12065                2.025                  0.062                  1.85   \n",
       "12066                2.358                  0.066                  2.00   \n",
       "12067                2.120                  0.075                  1.97   \n",
       "12068                2.090                  0.034                  2.00   \n",
       "\n",
       "       PREÇO MÁXIMO REVENDA MARGEM MÉDIA REVENDA  COEF DE VARIAÇÃO REVENDA  \\\n",
       "12064                 2.070                0.318                     0.003   \n",
       "12065                 2.220                0.296                     0.031   \n",
       "12066                 2.540                0.472                     0.028   \n",
       "12067                 2.440                0.325                     0.035   \n",
       "12068                 2.159                 0.35                     0.016   \n",
       "\n",
       "      PREÇO MÉDIO DISTRIBUIÇÃO DESVIO PADRÃO DISTRIBUIÇÃO  \\\n",
       "12064                    1.711                       0.02   \n",
       "12065                    1.729                      0.036   \n",
       "12066                    1.886                      0.068   \n",
       "12067                    1.795                      0.033   \n",
       "12068                     1.74                      0.042   \n",
       "\n",
       "      PREÇO MÍNIMO DISTRIBUIÇÃO PREÇO MÁXIMO DISTRIBUIÇÃO  \\\n",
       "12064                     1.651                    1.7427   \n",
       "12065                    1.6643                     1.915   \n",
       "12066                      1.75                    2.0713   \n",
       "12067                   1.70701                    1.9703   \n",
       "12068                    1.6789                     1.918   \n",
       "\n",
       "      COEF DE VARIAÇÃO DISTRIBUIÇÃO  ANO-MES  \n",
       "12064                         0.012  2004-05  \n",
       "12065                         0.021  2004-05  \n",
       "12066                         0.036  2004-05  \n",
       "12067                         0.018  2004-05  \n",
       "12068                         0.024  2004-05  "
      ]
     },
     "execution_count": 11,
     "metadata": {},
     "output_type": "execute_result"
    }
   ],
   "source": [
    "gas_comum.head(5)"
   ]
  },
  {
   "cell_type": "markdown",
   "id": "fb031b0b-51e7-43d7-b2cb-10da05019a73",
   "metadata": {},
   "source": [
    "### 8. Demonstrar o preço médio de revenda da gasolina em agosto de 2008."
   ]
  },
  {
   "cell_type": "code",
   "execution_count": 12,
   "id": "3ba34e10-cc51-4b04-b67a-4245248907ed",
   "metadata": {},
   "outputs": [
    {
     "data": {
      "text/plain": [
       "np.float64(2.6012444444444442)"
      ]
     },
     "execution_count": 12,
     "metadata": {},
     "output_type": "execute_result"
    }
   ],
   "source": [
    "gas_comum[gas_comum[\"ANO-MES\"] == '2008-08'][\"PREÇO MÉDIO REVENDA\"].mean()"
   ]
  },
  {
   "cell_type": "markdown",
   "id": "a57428cc-e9e6-48f8-a7f7-27fb9c87bcde",
   "metadata": {},
   "source": [
    "### 9. Qual o preço médio de revenda da gasolina em maio de 2014 em São Paulo?"
   ]
  },
  {
   "cell_type": "code",
   "execution_count": 13,
   "id": "e981678b-85db-499a-8466-e24c455ea20c",
   "metadata": {},
   "outputs": [
    {
     "data": {
      "text/plain": [
       "np.float64(2.4046)"
      ]
     },
     "execution_count": 13,
     "metadata": {},
     "output_type": "execute_result"
    }
   ],
   "source": [
    "gas_comum[(gas_comum[\"ANO-MES\"] == '2008-08') & (gas_comum[\"ESTADO\"] == 'SAO PAULO')][\"PREÇO MÉDIO REVENDA\"].mean()"
   ]
  },
  {
   "cell_type": "markdown",
   "id": "6ab2edd0-8bf7-49d7-b3e8-5535ec4a58cf",
   "metadata": {},
   "source": [
    "### 10. Em quais estados a gasolina ultrapassou a barreira dos R$ 5,00? E quando isso ocorreu?"
   ]
  },
  {
   "cell_type": "code",
   "execution_count": 14,
   "id": "32a9045a-899c-4775-8b66-c0490f3e62a7",
   "metadata": {},
   "outputs": [
    {
     "data": {
      "text/html": [
       "<div>\n",
       "<style scoped>\n",
       "    .dataframe tbody tr th:only-of-type {\n",
       "        vertical-align: middle;\n",
       "    }\n",
       "\n",
       "    .dataframe tbody tr th {\n",
       "        vertical-align: top;\n",
       "    }\n",
       "\n",
       "    .dataframe thead th {\n",
       "        text-align: right;\n",
       "    }\n",
       "</style>\n",
       "<table border=\"1\" class=\"dataframe\">\n",
       "  <thead>\n",
       "    <tr style=\"text-align: right;\">\n",
       "      <th></th>\n",
       "      <th>ESTADO</th>\n",
       "      <th>ANO-MES</th>\n",
       "      <th>PREÇO MÉDIO REVENDA</th>\n",
       "    </tr>\n",
       "  </thead>\n",
       "  <tbody>\n",
       "    <tr>\n",
       "      <th>98201</th>\n",
       "      <td>ACRE</td>\n",
       "      <td>2018-05</td>\n",
       "      <td>5.053</td>\n",
       "    </tr>\n",
       "    <tr>\n",
       "      <th>98347</th>\n",
       "      <td>ACRE</td>\n",
       "      <td>2018-06</td>\n",
       "      <td>5.035</td>\n",
       "    </tr>\n",
       "    <tr>\n",
       "      <th>98493</th>\n",
       "      <td>ACRE</td>\n",
       "      <td>2018-06</td>\n",
       "      <td>5.038</td>\n",
       "    </tr>\n",
       "    <tr>\n",
       "      <th>98511</th>\n",
       "      <td>RIO DE JANEIRO</td>\n",
       "      <td>2018-06</td>\n",
       "      <td>5.016</td>\n",
       "    </tr>\n",
       "    <tr>\n",
       "      <th>98646</th>\n",
       "      <td>ACRE</td>\n",
       "      <td>2018-06</td>\n",
       "      <td>5.031</td>\n",
       "    </tr>\n",
       "    <tr>\n",
       "      <th>...</th>\n",
       "      <td>...</td>\n",
       "      <td>...</td>\n",
       "      <td>...</td>\n",
       "    </tr>\n",
       "    <tr>\n",
       "      <th>120721</th>\n",
       "      <td>RORAIMA</td>\n",
       "      <td>2021-05</td>\n",
       "      <td>5.364</td>\n",
       "    </tr>\n",
       "    <tr>\n",
       "      <th>120722</th>\n",
       "      <td>SANTA CATARINA</td>\n",
       "      <td>2021-05</td>\n",
       "      <td>5.051</td>\n",
       "    </tr>\n",
       "    <tr>\n",
       "      <th>120723</th>\n",
       "      <td>SAO PAULO</td>\n",
       "      <td>2021-05</td>\n",
       "      <td>5.265</td>\n",
       "    </tr>\n",
       "    <tr>\n",
       "      <th>120724</th>\n",
       "      <td>SERGIPE</td>\n",
       "      <td>2021-05</td>\n",
       "      <td>5.586</td>\n",
       "    </tr>\n",
       "    <tr>\n",
       "      <th>120725</th>\n",
       "      <td>TOCANTINS</td>\n",
       "      <td>2021-05</td>\n",
       "      <td>5.751</td>\n",
       "    </tr>\n",
       "  </tbody>\n",
       "</table>\n",
       "<p>353 rows × 3 columns</p>\n",
       "</div>"
      ],
      "text/plain": [
       "                ESTADO  ANO-MES  PREÇO MÉDIO REVENDA\n",
       "98201             ACRE  2018-05                5.053\n",
       "98347             ACRE  2018-06                5.035\n",
       "98493             ACRE  2018-06                5.038\n",
       "98511   RIO DE JANEIRO  2018-06                5.016\n",
       "98646             ACRE  2018-06                5.031\n",
       "...                ...      ...                  ...\n",
       "120721         RORAIMA  2021-05                5.364\n",
       "120722  SANTA CATARINA  2021-05                5.051\n",
       "120723       SAO PAULO  2021-05                5.265\n",
       "120724         SERGIPE  2021-05                5.586\n",
       "120725       TOCANTINS  2021-05                5.751\n",
       "\n",
       "[353 rows x 3 columns]"
      ]
     },
     "execution_count": 14,
     "metadata": {},
     "output_type": "execute_result"
    }
   ],
   "source": [
    "gas_comum[gas_comum['PREÇO MÉDIO REVENDA'] > 5][['ESTADO', 'ANO-MES', 'PREÇO MÉDIO REVENDA']]\n"
   ]
  },
  {
   "cell_type": "markdown",
   "id": "80f4c3a6-ba0e-43b0-a328-91c0aa04348c",
   "metadata": {},
   "source": [
    "### 11. Qual a média de preço dos estados da região sul em 2012?"
   ]
  },
  {
   "cell_type": "code",
   "execution_count": 15,
   "id": "e6bbbe89-3dc9-4264-ba31-2ce5aa76054b",
   "metadata": {},
   "outputs": [
    {
     "data": {
      "text/plain": [
       "np.float64(2.7214423076923073)"
      ]
     },
     "execution_count": 15,
     "metadata": {},
     "output_type": "execute_result"
    }
   ],
   "source": [
    "gas_comum_2012 = gas_comum[(gas_comum['ANO-MES'].str[:4] == '2012') & (gas_comum['REGIÃO'] == 'SUL')]\n",
    "media_preco_revenda = gas_comum_2012['PREÇO MÉDIO REVENDA'].mean()\n",
    "media_preco_revenda\n"
   ]
  },
  {
   "cell_type": "markdown",
   "id": "28781cbf-0dba-4512-83df-87537e548c63",
   "metadata": {},
   "source": [
    "### 12. Obter uma tabela contendo a variação percentual ano a ano para o estado do Rio de Janeiro."
   ]
  },
  {
   "cell_type": "code",
   "execution_count": 31,
   "id": "09d2d505-127b-47ff-8fe5-0c6170da3900",
   "metadata": {},
   "outputs": [
    {
     "name": "stderr",
     "output_type": "stream",
     "text": [
      "C:\\Users\\higor\\AppData\\Local\\Temp\\ipykernel_28400\\2490839492.py:1: SettingWithCopyWarning: \n",
      "A value is trying to be set on a copy of a slice from a DataFrame.\n",
      "Try using .loc[row_indexer,col_indexer] = value instead\n",
      "\n",
      "See the caveats in the documentation: https://pandas.pydata.org/pandas-docs/stable/user_guide/indexing.html#returning-a-view-versus-a-copy\n",
      "  gas_comum[\"MES\"] = gas_comum[\"ANO-MES\"].str[5:]\n"
     ]
    },
    {
     "data": {
      "text/plain": [
       "ANO-MES\n",
       "2004-12          NaN\n",
       "2005-12     9.233449\n",
       "2006-12     0.917065\n",
       "2007-12     0.355591\n",
       "2008-12     0.984252\n",
       "2009-12     1.637427\n",
       "2010-12     2.032988\n",
       "2011-12     7.105263\n",
       "2012-12     0.982801\n",
       "2013-12     6.777894\n",
       "2014-12     4.361979\n",
       "2015-12    20.461634\n",
       "2016-12     3.625065\n",
       "2017-12    13.643178\n",
       "2018-12     5.804749\n",
       "2019-12     3.802993\n",
       "2020-12    -1.321321\n",
       "Name: PREÇO MÉDIO REVENDA, dtype: float64"
      ]
     },
     "execution_count": 31,
     "metadata": {},
     "output_type": "execute_result"
    }
   ],
   "source": [
    "gas_comum[\"MES\"] = gas_comum[\"ANO-MES\"].str[5:]\n",
    "df_rio = gas_comum[gas_comum[\"ESTADO\"] == \"RIO DE JANEIRO\"]\n",
    "df_month_rio = df_rio.groupby('ANO-MES')[['PREÇO MÉDIO REVENDA', 'MES']].last()\n",
    "df_last_month = df_month_rio[df_month_rio['MES'] == '12']\n",
    "\n",
    "var_percentual = ((df_last_month['PREÇO MÉDIO REVENDA'] - df_last_month['PREÇO MÉDIO REVENDA'].shift(1)) / (df_last_month['PREÇO MÉDIO REVENDA'].shift(1))) * 100\n",
    "var_percentual\n"
   ]
  },
  {
   "cell_type": "markdown",
   "id": "d5e51a54-13f7-4f62-9903-235ac6256b38",
   "metadata": {},
   "source": [
    "### 13. Criar uma tabela contendo uma série temporal com a diferença absoluta e percentual entre os valores mais baratos e caros. Apresentar também ao lado os estados nos quais os maiores e menores preços foram registrados"
   ]
  },
  {
   "cell_type": "code",
   "execution_count": 25,
   "id": "54791ed9-964c-4626-970b-406c96e59853",
   "metadata": {},
   "outputs": [],
   "source": [
    "df_max = gas_comum.groupby(\"ANO-MES\").max()[\"PREÇO MÉDIO REVENDA\"]\n",
    "df_min = gas_comum.groupby(\"ANO-MES\").min()[\"PREÇO MÉDIO REVENDA\"]\n",
    "\n",
    "idx_max = gas_comum.groupby('ANO-MES')[\"PREÇO MÉDIO REVENDA\"].idxmin()\n",
    "idx_min = gas_comum.groupby('ANO-MES')[\"PREÇO MÉDIO REVENDA\"].idxmax()\n",
    "\n",
    "df_diff = pd.DataFrame()\n"
   ]
  },
  {
   "cell_type": "code",
   "execution_count": 66,
   "id": "9e365697-59b4-4cc2-97ea-a6a8854f9954",
   "metadata": {},
   "outputs": [
    {
     "data": {
      "text/plain": [
       "ANO-MES\n",
       "2004-05     12114\n",
       "2004-06     12168\n",
       "2004-07     12334\n",
       "2004-08     12411\n",
       "2004-09     12600\n",
       "            ...  \n",
       "2021-01    117685\n",
       "2021-02    118739\n",
       "2021-03    119271\n",
       "2021-04    120344\n",
       "2021-05    120701\n",
       "Name: PREÇO MÉDIO REVENDA, Length: 204, dtype: int64"
      ]
     },
     "execution_count": 66,
     "metadata": {},
     "output_type": "execute_result"
    }
   ],
   "source": [
    "idx_max"
   ]
  },
  {
   "cell_type": "code",
   "execution_count": null,
   "id": "a3fb68c2-679b-4501-8238-73f3b64fc71a",
   "metadata": {},
   "outputs": [
    {
     "data": {
      "text/html": [
       "<div>\n",
       "<style scoped>\n",
       "    .dataframe tbody tr th:only-of-type {\n",
       "        vertical-align: middle;\n",
       "    }\n",
       "\n",
       "    .dataframe tbody tr th {\n",
       "        vertical-align: top;\n",
       "    }\n",
       "\n",
       "    .dataframe thead th {\n",
       "        text-align: right;\n",
       "    }\n",
       "</style>\n",
       "<table border=\"1\" class=\"dataframe\">\n",
       "  <thead>\n",
       "    <tr style=\"text-align: right;\">\n",
       "      <th></th>\n",
       "      <th>abs_diff</th>\n",
       "      <th>perct_diff</th>\n",
       "      <th>max</th>\n",
       "      <th>min</th>\n",
       "    </tr>\n",
       "    <tr>\n",
       "      <th>ANO-MES</th>\n",
       "      <th></th>\n",
       "      <th></th>\n",
       "      <th></th>\n",
       "      <th></th>\n",
       "    </tr>\n",
       "  </thead>\n",
       "  <tbody>\n",
       "    <tr>\n",
       "      <th>2004-05</th>\n",
       "      <td>0.550</td>\n",
       "      <td>29.131356</td>\n",
       "      <td>2.438</td>\n",
       "      <td>1.888</td>\n",
       "    </tr>\n",
       "    <tr>\n",
       "      <th>2004-06</th>\n",
       "      <td>0.584</td>\n",
       "      <td>30.543933</td>\n",
       "      <td>2.496</td>\n",
       "      <td>1.912</td>\n",
       "    </tr>\n",
       "    <tr>\n",
       "      <th>2004-07</th>\n",
       "      <td>0.609</td>\n",
       "      <td>31.456612</td>\n",
       "      <td>2.545</td>\n",
       "      <td>1.936</td>\n",
       "    </tr>\n",
       "    <tr>\n",
       "      <th>2004-08</th>\n",
       "      <td>0.530</td>\n",
       "      <td>26.108374</td>\n",
       "      <td>2.560</td>\n",
       "      <td>2.030</td>\n",
       "    </tr>\n",
       "    <tr>\n",
       "      <th>2004-09</th>\n",
       "      <td>0.539</td>\n",
       "      <td>26.538651</td>\n",
       "      <td>2.570</td>\n",
       "      <td>2.031</td>\n",
       "    </tr>\n",
       "    <tr>\n",
       "      <th>...</th>\n",
       "      <td>...</td>\n",
       "      <td>...</td>\n",
       "      <td>...</td>\n",
       "      <td>...</td>\n",
       "    </tr>\n",
       "    <tr>\n",
       "      <th>2021-01</th>\n",
       "      <td>1.383</td>\n",
       "      <td>36.109661</td>\n",
       "      <td>5.213</td>\n",
       "      <td>3.830</td>\n",
       "    </tr>\n",
       "    <tr>\n",
       "      <th>2021-02</th>\n",
       "      <td>1.688</td>\n",
       "      <td>40.960932</td>\n",
       "      <td>5.809</td>\n",
       "      <td>4.121</td>\n",
       "    </tr>\n",
       "    <tr>\n",
       "      <th>2021-03</th>\n",
       "      <td>2.109</td>\n",
       "      <td>46.058091</td>\n",
       "      <td>6.688</td>\n",
       "      <td>4.579</td>\n",
       "    </tr>\n",
       "    <tr>\n",
       "      <th>2021-04</th>\n",
       "      <td>1.450</td>\n",
       "      <td>30.353779</td>\n",
       "      <td>6.227</td>\n",
       "      <td>4.777</td>\n",
       "    </tr>\n",
       "    <tr>\n",
       "      <th>2021-05</th>\n",
       "      <td>1.391</td>\n",
       "      <td>28.580234</td>\n",
       "      <td>6.258</td>\n",
       "      <td>4.867</td>\n",
       "    </tr>\n",
       "  </tbody>\n",
       "</table>\n",
       "<p>204 rows × 4 columns</p>\n",
       "</div>"
      ],
      "text/plain": [
       "         abs_diff  perct_diff    max    min\n",
       "ANO-MES                                    \n",
       "2004-05     0.550   29.131356  2.438  1.888\n",
       "2004-06     0.584   30.543933  2.496  1.912\n",
       "2004-07     0.609   31.456612  2.545  1.936\n",
       "2004-08     0.530   26.108374  2.560  2.030\n",
       "2004-09     0.539   26.538651  2.570  2.031\n",
       "...           ...         ...    ...    ...\n",
       "2021-01     1.383   36.109661  5.213  3.830\n",
       "2021-02     1.688   40.960932  5.809  4.121\n",
       "2021-03     2.109   46.058091  6.688  4.579\n",
       "2021-04     1.450   30.353779  6.227  4.777\n",
       "2021-05     1.391   28.580234  6.258  4.867\n",
       "\n",
       "[204 rows x 4 columns]"
      ]
     },
     "execution_count": 26,
     "metadata": {},
     "output_type": "execute_result"
    }
   ],
   "source": [
    "df_diff[\"abs_diff\"] = df_max - df_min\n",
    "df_diff[\"perct_diff\"] = (df_max - df_min) / df_min * 100\n",
    "df_diff[\"max\"] = df_max\n",
    "df_diff[\"min\"] = df_min"
   ]
  },
  {
   "cell_type": "code",
   "execution_count": 28,
   "id": "65786f6b-6420-49b8-86d1-ae2470fabd2d",
   "metadata": {},
   "outputs": [
    {
     "data": {
      "text/html": [
       "<div>\n",
       "<style scoped>\n",
       "    .dataframe tbody tr th:only-of-type {\n",
       "        vertical-align: middle;\n",
       "    }\n",
       "\n",
       "    .dataframe tbody tr th {\n",
       "        vertical-align: top;\n",
       "    }\n",
       "\n",
       "    .dataframe thead th {\n",
       "        text-align: right;\n",
       "    }\n",
       "</style>\n",
       "<table border=\"1\" class=\"dataframe\">\n",
       "  <thead>\n",
       "    <tr style=\"text-align: right;\">\n",
       "      <th></th>\n",
       "      <th>ESTADO</th>\n",
       "      <th>PREÇO MÉDIO REVENDA</th>\n",
       "      <th>ANO-MES</th>\n",
       "    </tr>\n",
       "  </thead>\n",
       "  <tbody>\n",
       "    <tr>\n",
       "      <th>12114</th>\n",
       "      <td>SAO PAULO</td>\n",
       "      <td>1.888</td>\n",
       "      <td>2004-05</td>\n",
       "    </tr>\n",
       "    <tr>\n",
       "      <th>12168</th>\n",
       "      <td>SAO PAULO</td>\n",
       "      <td>1.912</td>\n",
       "      <td>2004-06</td>\n",
       "    </tr>\n",
       "    <tr>\n",
       "      <th>12334</th>\n",
       "      <td>DISTRITO FEDERAL</td>\n",
       "      <td>1.936</td>\n",
       "      <td>2004-07</td>\n",
       "    </tr>\n",
       "    <tr>\n",
       "      <th>12411</th>\n",
       "      <td>SAO PAULO</td>\n",
       "      <td>2.030</td>\n",
       "      <td>2004-08</td>\n",
       "    </tr>\n",
       "    <tr>\n",
       "      <th>12600</th>\n",
       "      <td>SAO PAULO</td>\n",
       "      <td>2.031</td>\n",
       "      <td>2004-09</td>\n",
       "    </tr>\n",
       "    <tr>\n",
       "      <th>...</th>\n",
       "      <td>...</td>\n",
       "      <td>...</td>\n",
       "      <td>...</td>\n",
       "    </tr>\n",
       "    <tr>\n",
       "      <th>117685</th>\n",
       "      <td>AMAPA</td>\n",
       "      <td>3.830</td>\n",
       "      <td>2021-01</td>\n",
       "    </tr>\n",
       "    <tr>\n",
       "      <th>118739</th>\n",
       "      <td>AMAPA</td>\n",
       "      <td>4.121</td>\n",
       "      <td>2021-02</td>\n",
       "    </tr>\n",
       "    <tr>\n",
       "      <th>119271</th>\n",
       "      <td>AMAPA</td>\n",
       "      <td>4.579</td>\n",
       "      <td>2021-03</td>\n",
       "    </tr>\n",
       "    <tr>\n",
       "      <th>120344</th>\n",
       "      <td>AMAPA</td>\n",
       "      <td>4.777</td>\n",
       "      <td>2021-04</td>\n",
       "    </tr>\n",
       "    <tr>\n",
       "      <th>120701</th>\n",
       "      <td>AMAPA</td>\n",
       "      <td>4.867</td>\n",
       "      <td>2021-05</td>\n",
       "    </tr>\n",
       "  </tbody>\n",
       "</table>\n",
       "<p>204 rows × 3 columns</p>\n",
       "</div>"
      ],
      "text/plain": [
       "                  ESTADO  PREÇO MÉDIO REVENDA  ANO-MES\n",
       "12114          SAO PAULO                1.888  2004-05\n",
       "12168          SAO PAULO                1.912  2004-06\n",
       "12334   DISTRITO FEDERAL                1.936  2004-07\n",
       "12411          SAO PAULO                2.030  2004-08\n",
       "12600          SAO PAULO                2.031  2004-09\n",
       "...                  ...                  ...      ...\n",
       "117685             AMAPA                3.830  2021-01\n",
       "118739             AMAPA                4.121  2021-02\n",
       "119271             AMAPA                4.579  2021-03\n",
       "120344             AMAPA                4.777  2021-04\n",
       "120701             AMAPA                4.867  2021-05\n",
       "\n",
       "[204 rows x 3 columns]"
      ]
     },
     "execution_count": 28,
     "metadata": {},
     "output_type": "execute_result"
    }
   ],
   "source": [
    "gas_comum.loc[idx_max, :][[\"ESTADO\", \"PREÇO MÉDIO REVENDA\", \"ANO-MES\"]]"
   ]
  },
  {
   "cell_type": "code",
   "execution_count": 30,
   "id": "221c6241-9a51-4c44-baf7-eb820e65155d",
   "metadata": {},
   "outputs": [
    {
     "data": {
      "text/html": [
       "<div>\n",
       "<style scoped>\n",
       "    .dataframe tbody tr th:only-of-type {\n",
       "        vertical-align: middle;\n",
       "    }\n",
       "\n",
       "    .dataframe tbody tr th {\n",
       "        vertical-align: top;\n",
       "    }\n",
       "\n",
       "    .dataframe thead th {\n",
       "        text-align: right;\n",
       "    }\n",
       "</style>\n",
       "<table border=\"1\" class=\"dataframe\">\n",
       "  <thead>\n",
       "    <tr style=\"text-align: right;\">\n",
       "      <th></th>\n",
       "      <th>abs_diff</th>\n",
       "      <th>perct_diff</th>\n",
       "      <th>max</th>\n",
       "      <th>min</th>\n",
       "      <th>ESTADO_MAX</th>\n",
       "      <th>ESTADO_MIN</th>\n",
       "    </tr>\n",
       "    <tr>\n",
       "      <th>ANO-MES</th>\n",
       "      <th></th>\n",
       "      <th></th>\n",
       "      <th></th>\n",
       "      <th></th>\n",
       "      <th></th>\n",
       "      <th></th>\n",
       "    </tr>\n",
       "  </thead>\n",
       "  <tbody>\n",
       "    <tr>\n",
       "      <th>2004-05</th>\n",
       "      <td>0.550</td>\n",
       "      <td>29.131356</td>\n",
       "      <td>2.438</td>\n",
       "      <td>1.888</td>\n",
       "      <td>SAO PAULO</td>\n",
       "      <td>ACRE</td>\n",
       "    </tr>\n",
       "    <tr>\n",
       "      <th>2004-06</th>\n",
       "      <td>0.584</td>\n",
       "      <td>30.543933</td>\n",
       "      <td>2.496</td>\n",
       "      <td>1.912</td>\n",
       "      <td>SAO PAULO</td>\n",
       "      <td>MATO GROSSO</td>\n",
       "    </tr>\n",
       "    <tr>\n",
       "      <th>2004-07</th>\n",
       "      <td>0.609</td>\n",
       "      <td>31.456612</td>\n",
       "      <td>2.545</td>\n",
       "      <td>1.936</td>\n",
       "      <td>DISTRITO FEDERAL</td>\n",
       "      <td>ACRE</td>\n",
       "    </tr>\n",
       "    <tr>\n",
       "      <th>2004-08</th>\n",
       "      <td>0.530</td>\n",
       "      <td>26.108374</td>\n",
       "      <td>2.560</td>\n",
       "      <td>2.030</td>\n",
       "      <td>SAO PAULO</td>\n",
       "      <td>MATO GROSSO</td>\n",
       "    </tr>\n",
       "    <tr>\n",
       "      <th>2004-09</th>\n",
       "      <td>0.539</td>\n",
       "      <td>26.538651</td>\n",
       "      <td>2.570</td>\n",
       "      <td>2.031</td>\n",
       "      <td>SAO PAULO</td>\n",
       "      <td>ACRE</td>\n",
       "    </tr>\n",
       "    <tr>\n",
       "      <th>...</th>\n",
       "      <td>...</td>\n",
       "      <td>...</td>\n",
       "      <td>...</td>\n",
       "      <td>...</td>\n",
       "      <td>...</td>\n",
       "      <td>...</td>\n",
       "    </tr>\n",
       "    <tr>\n",
       "      <th>2021-01</th>\n",
       "      <td>1.383</td>\n",
       "      <td>36.109661</td>\n",
       "      <td>5.213</td>\n",
       "      <td>3.830</td>\n",
       "      <td>AMAPA</td>\n",
       "      <td>ACRE</td>\n",
       "    </tr>\n",
       "    <tr>\n",
       "      <th>2021-02</th>\n",
       "      <td>1.688</td>\n",
       "      <td>40.960932</td>\n",
       "      <td>5.809</td>\n",
       "      <td>4.121</td>\n",
       "      <td>AMAPA</td>\n",
       "      <td>ACRE</td>\n",
       "    </tr>\n",
       "    <tr>\n",
       "      <th>2021-03</th>\n",
       "      <td>2.109</td>\n",
       "      <td>46.058091</td>\n",
       "      <td>6.688</td>\n",
       "      <td>4.579</td>\n",
       "      <td>AMAPA</td>\n",
       "      <td>ACRE</td>\n",
       "    </tr>\n",
       "    <tr>\n",
       "      <th>2021-04</th>\n",
       "      <td>1.450</td>\n",
       "      <td>30.353779</td>\n",
       "      <td>6.227</td>\n",
       "      <td>4.777</td>\n",
       "      <td>AMAPA</td>\n",
       "      <td>ACRE</td>\n",
       "    </tr>\n",
       "    <tr>\n",
       "      <th>2021-05</th>\n",
       "      <td>1.391</td>\n",
       "      <td>28.580234</td>\n",
       "      <td>6.258</td>\n",
       "      <td>4.867</td>\n",
       "      <td>AMAPA</td>\n",
       "      <td>ACRE</td>\n",
       "    </tr>\n",
       "  </tbody>\n",
       "</table>\n",
       "<p>204 rows × 6 columns</p>\n",
       "</div>"
      ],
      "text/plain": [
       "         abs_diff  perct_diff    max    min        ESTADO_MAX   ESTADO_MIN\n",
       "ANO-MES                                                                   \n",
       "2004-05     0.550   29.131356  2.438  1.888         SAO PAULO         ACRE\n",
       "2004-06     0.584   30.543933  2.496  1.912         SAO PAULO  MATO GROSSO\n",
       "2004-07     0.609   31.456612  2.545  1.936  DISTRITO FEDERAL         ACRE\n",
       "2004-08     0.530   26.108374  2.560  2.030         SAO PAULO  MATO GROSSO\n",
       "2004-09     0.539   26.538651  2.570  2.031         SAO PAULO         ACRE\n",
       "...           ...         ...    ...    ...               ...          ...\n",
       "2021-01     1.383   36.109661  5.213  3.830             AMAPA         ACRE\n",
       "2021-02     1.688   40.960932  5.809  4.121             AMAPA         ACRE\n",
       "2021-03     2.109   46.058091  6.688  4.579             AMAPA         ACRE\n",
       "2021-04     1.450   30.353779  6.227  4.777             AMAPA         ACRE\n",
       "2021-05     1.391   28.580234  6.258  4.867             AMAPA         ACRE\n",
       "\n",
       "[204 rows x 6 columns]"
      ]
     },
     "execution_count": 30,
     "metadata": {},
     "output_type": "execute_result"
    }
   ],
   "source": [
    "df_diff[\"ESTADO_MAX\"] = gas_comum.loc[idx_max, :][\"ESTADO\"].values\n",
    "df_diff[\"ESTADO_MIN\"] = gas_comum.loc[idx_min, :][\"ESTADO\"].values\n",
    "df_diff\n"
   ]
  },
  {
   "cell_type": "code",
   "execution_count": 85,
   "id": "8d632083-176f-4b70-9492-4ff74b14800c",
   "metadata": {},
   "outputs": [
    {
     "data": {
      "text/plain": [
       "SAO PAULO              40\n",
       "AMAPA                  38\n",
       "PIAUI                  28\n",
       "PARAIBA                28\n",
       "PARANA                 14\n",
       "AMAZONAS               14\n",
       "DISTRITO FEDERAL       12\n",
       "MARANHAO                9\n",
       "SANTA CATARINA          6\n",
       "PERNAMBUCO              4\n",
       "MATO GROSSO DO SUL      3\n",
       "RIO GRANDE DO NORTE     2\n",
       "GOIAS                   2\n",
       "CEARA                   2\n",
       "BAHIA                   2\n",
       "Name: ESTADO_MAX, dtype: int64"
      ]
     },
     "execution_count": 85,
     "metadata": {},
     "output_type": "execute_result"
    }
   ],
   "source": [
    "df_diff[\"ESTADO_MAX\"].value_counts()"
   ]
  },
  {
   "cell_type": "code",
   "execution_count": 86,
   "id": "8c9b7c46-a4a4-4ee3-b306-530d6e7fa88e",
   "metadata": {},
   "outputs": [
    {
     "data": {
      "text/plain": [
       "ACRE              166\n",
       "MATO GROSSO        25\n",
       "RIO DE JANEIRO     11\n",
       "RORAIMA             2\n",
       "Name: ESTADO_MIN, dtype: int64"
      ]
     },
     "execution_count": 86,
     "metadata": {},
     "output_type": "execute_result"
    }
   ],
   "source": [
    "df_diff[\"ESTADO_MIN\"].value_counts()"
   ]
  }
 ],
 "metadata": {
  "kernelspec": {
   "display_name": "Python 3",
   "language": "python",
   "name": "python3"
  },
  "language_info": {
   "codemirror_mode": {
    "name": "ipython",
    "version": 3
   },
   "file_extension": ".py",
   "mimetype": "text/x-python",
   "name": "python",
   "nbconvert_exporter": "python",
   "pygments_lexer": "ipython3",
   "version": "3.12.3"
  }
 },
 "nbformat": 4,
 "nbformat_minor": 5
}
