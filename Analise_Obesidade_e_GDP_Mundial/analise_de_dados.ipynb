{
 "cells": [
  {
   "cell_type": "markdown",
   "id": "motivated-olympus",
   "metadata": {},
   "source": [
    "\n",
    "\n",
    "\n",
    "\n",
    "# Tais conjuntos de dados são públicos e foram publicados no Kaggle. "
   ]
  },
  {
   "cell_type": "code",
   "execution_count": 63,
   "id": "million-survival",
   "metadata": {},
   "outputs": [],
   "source": [
    "import pandas as pd\n",
    "import numpy as np\n",
    "import matplotlib.pyplot as plt"
   ]
  },
  {
   "cell_type": "markdown",
   "id": "becoming-princeton",
   "metadata": {},
   "source": [
    "## Perguntas - Obesity among adults by country, 1975-2016"
   ]
  },
  {
   "cell_type": "code",
   "execution_count": 64,
   "id": "formal-heater",
   "metadata": {},
   "outputs": [],
   "source": [
    "df_obesity = pd.read_csv(\"obesity-cleaned.csv\")\n"
   ]
  },
  {
   "cell_type": "markdown",
   "id": "divine-rebel",
   "metadata": {},
   "source": [
    "- Limpe os dados do DataFrame, criando uma coluna de nome 'Obesity' que conterá os valores de obesidade. Transforme em float as colunas que porventura foram importadas como string."
   ]
  },
  {
   "cell_type": "code",
   "execution_count": 65,
   "id": "d75c4fd3",
   "metadata": {},
   "outputs": [],
   "source": [
    "del df_obesity['Unnamed: 0']"
   ]
  },
  {
   "cell_type": "code",
   "execution_count": 66,
   "id": "cubic-minneapolis",
   "metadata": {},
   "outputs": [],
   "source": [
    "df_obesity['Obesity'] = df_obesity['Obesity (%)'].apply(lambda x: x.split(' ')[0])\n",
    "df_obesity.loc[df_obesity['Obesity'] == 'No', 'Obesity'] = np.nan\n",
    "df_obesity.dropna(inplace=True)\n"
   ]
  },
  {
   "cell_type": "code",
   "execution_count": 67,
   "id": "414472d6",
   "metadata": {},
   "outputs": [],
   "source": [
    "df_obesity['Year'] = df_obesity['Year'].astype(float)\n",
    "df_obesity['Obesity'] = df_obesity['Obesity'].astype(float)"
   ]
  },
  {
   "cell_type": "markdown",
   "id": "voluntary-temperature",
   "metadata": {},
   "source": [
    "- Qual o percentual médio de obesidade por sexo no mundo no ano de 2015?"
   ]
  },
  {
   "cell_type": "code",
   "execution_count": 68,
   "id": "afraid-reminder",
   "metadata": {},
   "outputs": [
    {
     "data": {
      "text/plain": [
       "Sex\n",
       "Both sexes    19.508377\n",
       "Female        22.899476\n",
       "Male          15.980628\n",
       "Name: Obesity, dtype: float64"
      ]
     },
     "execution_count": 68,
     "metadata": {},
     "output_type": "execute_result"
    }
   ],
   "source": [
    "df_obesity[df_obesity['Year'] == 2015].groupby('Sex')['Obesity'].mean()\n",
    "# pivot_table_result = df_obesity[df_obesity['Year'] == 2015].pivot_table(values='Obesity', index='Sex', aggfunc='mean')\n",
    "# pivot_table_result\n"
   ]
  },
  {
   "cell_type": "markdown",
   "id": "expected-kruger",
   "metadata": {},
   "source": [
    "- Quais são os 5 países com a maior e a menor taxa de aumento nos índices de obesidade no período observado?"
   ]
  },
  {
   "cell_type": "code",
   "execution_count": 69,
   "id": "phantom-going",
   "metadata": {},
   "outputs": [
    {
     "data": {
      "text/plain": [
       "Country\n",
       "Viet Nam       2.0\n",
       "Singapore      3.1\n",
       "Japan          3.3\n",
       "Bangladesh     3.4\n",
       "Timor-Leste    3.6\n",
       "Name: Obesity, dtype: float64"
      ]
     },
     "execution_count": 69,
     "metadata": {},
     "output_type": "execute_result"
    }
   ],
   "source": [
    "df_obesity_year_index = df_obesity.copy()\n",
    "df_obesity_year_index.set_index('Year', inplace=True)\n",
    "\n",
    "df_obesity_start = df_obesity_year_index[df_obesity_year_index.index == 1975]\n",
    "df_obesity_end = df_obesity_year_index[df_obesity_year_index.index == 2016]\n",
    "\n",
    "df_obesity_start.set_index(\"Country\", inplace=True)\n",
    "df_obesity_end.set_index(\"Country\", inplace=True)\n",
    "\n",
    "\n",
    "\n",
    "df_obesity_ev = df_obesity_end[df_obesity_end[\"Sex\"] == \"Both sexes\"][\"Obesity\"] - df_obesity_start[df_obesity_start[\"Sex\"] == \"Both sexes\"][\"Obesity\"]\n",
    "df_obesity_ev.sort_values(inplace=True)\n",
    "df_obesity_ev.head()"
   ]
  },
  {
   "cell_type": "code",
   "execution_count": 70,
   "id": "32431bdb",
   "metadata": {},
   "outputs": [
    {
     "data": {
      "text/plain": [
       "Country\n",
       "Cook Islands    27.9\n",
       "Tonga           28.3\n",
       "Kiribati        30.1\n",
       "Niue            31.1\n",
       "Tuvalu          33.7\n",
       "Name: Obesity, dtype: float64"
      ]
     },
     "execution_count": 70,
     "metadata": {},
     "output_type": "execute_result"
    }
   ],
   "source": [
    "df_obesity_ev.tail()\n"
   ]
  },
  {
   "cell_type": "markdown",
   "id": "efficient-buyer",
   "metadata": {},
   "source": [
    "- Quais os países com maiores e menores níveis percetuais de obesidade em 2015?"
   ]
  },
  {
   "cell_type": "code",
   "execution_count": 71,
   "id": "violent-warren",
   "metadata": {},
   "outputs": [
    {
     "data": {
      "text/html": [
       "<div>\n",
       "<style scoped>\n",
       "    .dataframe tbody tr th:only-of-type {\n",
       "        vertical-align: middle;\n",
       "    }\n",
       "\n",
       "    .dataframe tbody tr th {\n",
       "        vertical-align: top;\n",
       "    }\n",
       "\n",
       "    .dataframe thead th {\n",
       "        text-align: right;\n",
       "    }\n",
       "</style>\n",
       "<table border=\"1\" class=\"dataframe\">\n",
       "  <thead>\n",
       "    <tr style=\"text-align: right;\">\n",
       "      <th></th>\n",
       "      <th>Country</th>\n",
       "      <th>Obesity (%)</th>\n",
       "      <th>Sex</th>\n",
       "      <th>Obesity</th>\n",
       "    </tr>\n",
       "    <tr>\n",
       "      <th>Year</th>\n",
       "      <th></th>\n",
       "      <th></th>\n",
       "      <th></th>\n",
       "      <th></th>\n",
       "    </tr>\n",
       "  </thead>\n",
       "  <tbody>\n",
       "    <tr>\n",
       "      <th>2015.0</th>\n",
       "      <td>Nauru</td>\n",
       "      <td>63.1 [55.5-70.3]</td>\n",
       "      <td>Female</td>\n",
       "      <td>63.1</td>\n",
       "    </tr>\n",
       "  </tbody>\n",
       "</table>\n",
       "</div>"
      ],
      "text/plain": [
       "       Country       Obesity (%)     Sex  Obesity\n",
       "Year                                             \n",
       "2015.0   Nauru  63.1 [55.5-70.3]  Female     63.1"
      ]
     },
     "execution_count": 71,
     "metadata": {},
     "output_type": "execute_result"
    }
   ],
   "source": [
    "df_obesity_2015 = df_obesity_year_index[df_obesity_year_index.index == 2015]\n",
    "df_obesity_2015[df_obesity_2015['Obesity'] == df_obesity_2015['Obesity'].max()]"
   ]
  },
  {
   "cell_type": "code",
   "execution_count": 72,
   "id": "11012c9d",
   "metadata": {},
   "outputs": [
    {
     "data": {
      "text/html": [
       "<div>\n",
       "<style scoped>\n",
       "    .dataframe tbody tr th:only-of-type {\n",
       "        vertical-align: middle;\n",
       "    }\n",
       "\n",
       "    .dataframe tbody tr th {\n",
       "        vertical-align: top;\n",
       "    }\n",
       "\n",
       "    .dataframe thead th {\n",
       "        text-align: right;\n",
       "    }\n",
       "</style>\n",
       "<table border=\"1\" class=\"dataframe\">\n",
       "  <thead>\n",
       "    <tr style=\"text-align: right;\">\n",
       "      <th></th>\n",
       "      <th>Country</th>\n",
       "      <th>Obesity (%)</th>\n",
       "      <th>Sex</th>\n",
       "      <th>Obesity</th>\n",
       "    </tr>\n",
       "    <tr>\n",
       "      <th>Year</th>\n",
       "      <th></th>\n",
       "      <th></th>\n",
       "      <th></th>\n",
       "      <th></th>\n",
       "    </tr>\n",
       "  </thead>\n",
       "  <tbody>\n",
       "    <tr>\n",
       "      <th>2015.0</th>\n",
       "      <td>Viet Nam</td>\n",
       "      <td>1.5 [0.8-2.5]</td>\n",
       "      <td>Male</td>\n",
       "      <td>1.5</td>\n",
       "    </tr>\n",
       "  </tbody>\n",
       "</table>\n",
       "</div>"
      ],
      "text/plain": [
       "         Country    Obesity (%)   Sex  Obesity\n",
       "Year                                          \n",
       "2015.0  Viet Nam  1.5 [0.8-2.5]  Male      1.5"
      ]
     },
     "execution_count": 72,
     "metadata": {},
     "output_type": "execute_result"
    }
   ],
   "source": [
    "df_obesity_2015[df_obesity_2015['Obesity'] == df_obesity_2015['Obesity'].min()]"
   ]
  },
  {
   "cell_type": "markdown",
   "id": "average-holiday",
   "metadata": {},
   "source": [
    "- Qual a diferença média percentual de obesidade entre sexos ao longo dos anos para o Brasil?"
   ]
  },
  {
   "cell_type": "code",
   "execution_count": 73,
   "id": "later-occurrence",
   "metadata": {},
   "outputs": [
    {
     "data": {
      "text/plain": [
       "Year\n",
       "1975.0    4.3\n",
       "1976.0    4.4\n",
       "1977.0    4.6\n",
       "1978.0    4.7\n",
       "1979.0    4.9\n",
       "1980.0    4.9\n",
       "1981.0    5.1\n",
       "1982.0    5.2\n",
       "1983.0    5.4\n",
       "1984.0    5.5\n",
       "1985.0    5.6\n",
       "1986.0    5.7\n",
       "1987.0    5.8\n",
       "1988.0    5.9\n",
       "1989.0    6.0\n",
       "1990.0    6.1\n",
       "1991.0    6.1\n",
       "1992.0    6.3\n",
       "1993.0    6.3\n",
       "1994.0    6.4\n",
       "1995.0    6.4\n",
       "1996.0    6.5\n",
       "1997.0    6.6\n",
       "1998.0    6.7\n",
       "1999.0    6.8\n",
       "2000.0    6.8\n",
       "2001.0    6.8\n",
       "2002.0    6.8\n",
       "2003.0    6.9\n",
       "2004.0    6.9\n",
       "2005.0    6.9\n",
       "2006.0    6.9\n",
       "2007.0    7.0\n",
       "2008.0    6.9\n",
       "2009.0    7.0\n",
       "2010.0    7.0\n",
       "2011.0    6.9\n",
       "2012.0    6.9\n",
       "2013.0    6.9\n",
       "2014.0    6.9\n",
       "2015.0    6.9\n",
       "2016.0    6.9\n",
       "Name: Obesity, dtype: float64"
      ]
     },
     "execution_count": 73,
     "metadata": {},
     "output_type": "execute_result"
    }
   ],
   "source": [
    "df_ob_brasil = df_obesity[df_obesity['Country'] == 'Brazil'].set_index('Year')\n",
    "abs(df_ob_brasil[df_ob_brasil['Sex'] == 'Male']['Obesity'] - df_ob_brasil[df_ob_brasil['Sex'] == 'Female']['Obesity'])  \n"
   ]
  },
  {
   "cell_type": "markdown",
   "id": "rising-exhaust",
   "metadata": {},
   "source": [
    "- Você conseguiria plotar um gráfico mostrando a evolução da obesidade para ambos sexos no mundo?"
   ]
  },
  {
   "cell_type": "code",
   "execution_count": 74,
   "id": "senior-recruitment",
   "metadata": {},
   "outputs": [
    {
     "data": {
      "text/plain": [
       "<Axes: xlabel='Year'>"
      ]
     },
     "execution_count": 74,
     "metadata": {},
     "output_type": "execute_result"
    },
    {
     "data": {
      "image/png": "[encoded data removed]",
      "text/plain": [
       "<Figure size 640x480 with 1 Axes>"
      ]
     },
     "metadata": {},
     "output_type": "display_data"
    }
   ],
   "source": [
    "df_both = df_obesity[df_obesity[\"Sex\"] == \"Both sexes\"]\n",
    "df_both = df_both.groupby('Year')['Obesity'].mean()\n",
    "df_both.plot()"
   ]
  },
  {
   "cell_type": "markdown",
   "id": "labeled-rainbow",
   "metadata": {},
   "source": [
    "## Perguntas - GDP Per Person (1901-2011)"
   ]
  },
  {
   "cell_type": "code",
   "execution_count": 75,
   "id": "thermal-breeding",
   "metadata": {},
   "outputs": [
    {
     "data": {
      "text/html": [
       "<div>\n",
       "<style scoped>\n",
       "    .dataframe tbody tr th:only-of-type {\n",
       "        vertical-align: middle;\n",
       "    }\n",
       "\n",
       "    .dataframe tbody tr th {\n",
       "        vertical-align: top;\n",
       "    }\n",
       "\n",
       "    .dataframe thead th {\n",
       "        text-align: right;\n",
       "    }\n",
       "</style>\n",
       "<table border=\"1\" class=\"dataframe\">\n",
       "  <thead>\n",
       "    <tr style=\"text-align: right;\">\n",
       "      <th></th>\n",
       "      <th>Country</th>\n",
       "      <th>Region</th>\n",
       "      <th>Year</th>\n",
       "      <th>GDP_pp</th>\n",
       "    </tr>\n",
       "  </thead>\n",
       "  <tbody>\n",
       "    <tr>\n",
       "      <th>0</th>\n",
       "      <td>Afghanistan</td>\n",
       "      <td>Middle East, North Africa, and Greater Arabia</td>\n",
       "      <td>1/1/1901</td>\n",
       "      <td>613.99</td>\n",
       "    </tr>\n",
       "    <tr>\n",
       "      <th>1</th>\n",
       "      <td>Afghanistan</td>\n",
       "      <td>Middle East, North Africa, and Greater Arabia</td>\n",
       "      <td>1/1/1906</td>\n",
       "      <td>624.04</td>\n",
       "    </tr>\n",
       "    <tr>\n",
       "      <th>2</th>\n",
       "      <td>Afghanistan</td>\n",
       "      <td>Middle East, North Africa, and Greater Arabia</td>\n",
       "      <td>1/1/1911</td>\n",
       "      <td>634.25</td>\n",
       "    </tr>\n",
       "    <tr>\n",
       "      <th>3</th>\n",
       "      <td>Afghanistan</td>\n",
       "      <td>Middle East, North Africa, and Greater Arabia</td>\n",
       "      <td>1/1/1916</td>\n",
       "      <td>647.28</td>\n",
       "    </tr>\n",
       "    <tr>\n",
       "      <th>4</th>\n",
       "      <td>Afghanistan</td>\n",
       "      <td>Middle East, North Africa, and Greater Arabia</td>\n",
       "      <td>1/1/1921</td>\n",
       "      <td>662.40</td>\n",
       "    </tr>\n",
       "    <tr>\n",
       "      <th>5</th>\n",
       "      <td>Afghanistan</td>\n",
       "      <td>Middle East, North Africa, and Greater Arabia</td>\n",
       "      <td>1/1/1926</td>\n",
       "      <td>677.87</td>\n",
       "    </tr>\n",
       "    <tr>\n",
       "      <th>6</th>\n",
       "      <td>Afghanistan</td>\n",
       "      <td>Middle East, North Africa, and Greater Arabia</td>\n",
       "      <td>1/1/1931</td>\n",
       "      <td>693.71</td>\n",
       "    </tr>\n",
       "    <tr>\n",
       "      <th>7</th>\n",
       "      <td>Afghanistan</td>\n",
       "      <td>Middle East, North Africa, and Greater Arabia</td>\n",
       "      <td>1/1/1936</td>\n",
       "      <td>709.91</td>\n",
       "    </tr>\n",
       "    <tr>\n",
       "      <th>8</th>\n",
       "      <td>Afghanistan</td>\n",
       "      <td>Middle East, North Africa, and Greater Arabia</td>\n",
       "      <td>1/1/1941</td>\n",
       "      <td>726.49</td>\n",
       "    </tr>\n",
       "    <tr>\n",
       "      <th>9</th>\n",
       "      <td>Afghanistan</td>\n",
       "      <td>Middle East, North Africa, and Greater Arabia</td>\n",
       "      <td>1/1/1946</td>\n",
       "      <td>743.46</td>\n",
       "    </tr>\n",
       "    <tr>\n",
       "      <th>10</th>\n",
       "      <td>Afghanistan</td>\n",
       "      <td>Middle East, North Africa, and Greater Arabia</td>\n",
       "      <td>1/1/1951</td>\n",
       "      <td>766.75</td>\n",
       "    </tr>\n",
       "    <tr>\n",
       "      <th>11</th>\n",
       "      <td>Afghanistan</td>\n",
       "      <td>Middle East, North Africa, and Greater Arabia</td>\n",
       "      <td>1/1/1956</td>\n",
       "      <td>837.07</td>\n",
       "    </tr>\n",
       "    <tr>\n",
       "      <th>12</th>\n",
       "      <td>Afghanistan</td>\n",
       "      <td>Middle East, North Africa, and Greater Arabia</td>\n",
       "      <td>1/1/1961</td>\n",
       "      <td>857.36</td>\n",
       "    </tr>\n",
       "    <tr>\n",
       "      <th>13</th>\n",
       "      <td>Afghanistan</td>\n",
       "      <td>Middle East, North Africa, and Greater Arabia</td>\n",
       "      <td>1/1/1966</td>\n",
       "      <td>833.61</td>\n",
       "    </tr>\n",
       "    <tr>\n",
       "      <th>14</th>\n",
       "      <td>Afghanistan</td>\n",
       "      <td>Middle East, North Africa, and Greater Arabia</td>\n",
       "      <td>1/1/1971</td>\n",
       "      <td>773.70</td>\n",
       "    </tr>\n",
       "    <tr>\n",
       "      <th>15</th>\n",
       "      <td>Afghanistan</td>\n",
       "      <td>Middle East, North Africa, and Greater Arabia</td>\n",
       "      <td>1/1/1976</td>\n",
       "      <td>866.19</td>\n",
       "    </tr>\n",
       "    <tr>\n",
       "      <th>16</th>\n",
       "      <td>Afghanistan</td>\n",
       "      <td>Middle East, North Africa, and Greater Arabia</td>\n",
       "      <td>1/1/1981</td>\n",
       "      <td>896.86</td>\n",
       "    </tr>\n",
       "    <tr>\n",
       "      <th>17</th>\n",
       "      <td>Afghanistan</td>\n",
       "      <td>Middle East, North Africa, and Greater Arabia</td>\n",
       "      <td>1/1/1986</td>\n",
       "      <td>1,030.89</td>\n",
       "    </tr>\n",
       "    <tr>\n",
       "      <th>18</th>\n",
       "      <td>Afghanistan</td>\n",
       "      <td>Middle East, North Africa, and Greater Arabia</td>\n",
       "      <td>1/1/1991</td>\n",
       "      <td>705.45</td>\n",
       "    </tr>\n",
       "    <tr>\n",
       "      <th>19</th>\n",
       "      <td>Afghanistan</td>\n",
       "      <td>Middle East, North Africa, and Greater Arabia</td>\n",
       "      <td>1/1/1996</td>\n",
       "      <td>617.91</td>\n",
       "    </tr>\n",
       "    <tr>\n",
       "      <th>20</th>\n",
       "      <td>Afghanistan</td>\n",
       "      <td>Middle East, North Africa, and Greater Arabia</td>\n",
       "      <td>1/1/2001</td>\n",
       "      <td>595.04</td>\n",
       "    </tr>\n",
       "    <tr>\n",
       "      <th>21</th>\n",
       "      <td>Afghanistan</td>\n",
       "      <td>Middle East, North Africa, and Greater Arabia</td>\n",
       "      <td>1/1/2006</td>\n",
       "      <td>887.91</td>\n",
       "    </tr>\n",
       "    <tr>\n",
       "      <th>22</th>\n",
       "      <td>Afghanistan</td>\n",
       "      <td>Middle East, North Africa, and Greater Arabia</td>\n",
       "      <td>1/1/2011</td>\n",
       "      <td>1,261.35</td>\n",
       "    </tr>\n",
       "    <tr>\n",
       "      <th>23</th>\n",
       "      <td>Albania</td>\n",
       "      <td>Europe</td>\n",
       "      <td>1/1/1901</td>\n",
       "      <td>1,062.01</td>\n",
       "    </tr>\n",
       "    <tr>\n",
       "      <th>24</th>\n",
       "      <td>Albania</td>\n",
       "      <td>Europe</td>\n",
       "      <td>1/1/1906</td>\n",
       "      <td>1,133.49</td>\n",
       "    </tr>\n",
       "    <tr>\n",
       "      <th>25</th>\n",
       "      <td>Albania</td>\n",
       "      <td>Europe</td>\n",
       "      <td>1/1/1911</td>\n",
       "      <td>1,209.42</td>\n",
       "    </tr>\n",
       "    <tr>\n",
       "      <th>26</th>\n",
       "      <td>Albania</td>\n",
       "      <td>Europe</td>\n",
       "      <td>1/1/1916</td>\n",
       "      <td>1,272.01</td>\n",
       "    </tr>\n",
       "    <tr>\n",
       "      <th>27</th>\n",
       "      <td>Albania</td>\n",
       "      <td>Europe</td>\n",
       "      <td>1/1/1921</td>\n",
       "      <td>1,326.12</td>\n",
       "    </tr>\n",
       "    <tr>\n",
       "      <th>28</th>\n",
       "      <td>Albania</td>\n",
       "      <td>Europe</td>\n",
       "      <td>1/1/1926</td>\n",
       "      <td>1,382.53</td>\n",
       "    </tr>\n",
       "    <tr>\n",
       "      <th>29</th>\n",
       "      <td>Albania</td>\n",
       "      <td>Europe</td>\n",
       "      <td>1/1/1931</td>\n",
       "      <td>1,428.08</td>\n",
       "    </tr>\n",
       "    <tr>\n",
       "      <th>30</th>\n",
       "      <td>Albania</td>\n",
       "      <td>Europe</td>\n",
       "      <td>1/1/1936</td>\n",
       "      <td>1,454.82</td>\n",
       "    </tr>\n",
       "    <tr>\n",
       "      <th>31</th>\n",
       "      <td>Albania</td>\n",
       "      <td>Europe</td>\n",
       "      <td>1/1/1941</td>\n",
       "      <td>1,482.05</td>\n",
       "    </tr>\n",
       "    <tr>\n",
       "      <th>32</th>\n",
       "      <td>Albania</td>\n",
       "      <td>Europe</td>\n",
       "      <td>1/1/1946</td>\n",
       "      <td>1,509.79</td>\n",
       "    </tr>\n",
       "    <tr>\n",
       "      <th>33</th>\n",
       "      <td>Albania</td>\n",
       "      <td>Europe</td>\n",
       "      <td>1/1/1951</td>\n",
       "      <td>1,598.49</td>\n",
       "    </tr>\n",
       "    <tr>\n",
       "      <th>34</th>\n",
       "      <td>Albania</td>\n",
       "      <td>Europe</td>\n",
       "      <td>1/1/1956</td>\n",
       "      <td>1,825.30</td>\n",
       "    </tr>\n",
       "    <tr>\n",
       "      <th>35</th>\n",
       "      <td>Albania</td>\n",
       "      <td>Europe</td>\n",
       "      <td>1/1/1961</td>\n",
       "      <td>2,238.79</td>\n",
       "    </tr>\n",
       "    <tr>\n",
       "      <th>36</th>\n",
       "      <td>Albania</td>\n",
       "      <td>Europe</td>\n",
       "      <td>1/1/1966</td>\n",
       "      <td>2,660.07</td>\n",
       "    </tr>\n",
       "    <tr>\n",
       "      <th>37</th>\n",
       "      <td>Albania</td>\n",
       "      <td>Europe</td>\n",
       "      <td>1/1/1971</td>\n",
       "      <td>3,188.58</td>\n",
       "    </tr>\n",
       "    <tr>\n",
       "      <th>38</th>\n",
       "      <td>Albania</td>\n",
       "      <td>Europe</td>\n",
       "      <td>1/1/1976</td>\n",
       "      <td>3,517.62</td>\n",
       "    </tr>\n",
       "    <tr>\n",
       "      <th>39</th>\n",
       "      <td>Albania</td>\n",
       "      <td>Europe</td>\n",
       "      <td>1/1/1981</td>\n",
       "      <td>3,611.03</td>\n",
       "    </tr>\n",
       "    <tr>\n",
       "      <th>40</th>\n",
       "      <td>Albania</td>\n",
       "      <td>Europe</td>\n",
       "      <td>1/1/1986</td>\n",
       "      <td>3,715.55</td>\n",
       "    </tr>\n",
       "    <tr>\n",
       "      <th>41</th>\n",
       "      <td>Albania</td>\n",
       "      <td>Europe</td>\n",
       "      <td>1/1/1991</td>\n",
       "      <td>2,717.57</td>\n",
       "    </tr>\n",
       "    <tr>\n",
       "      <th>42</th>\n",
       "      <td>Albania</td>\n",
       "      <td>Europe</td>\n",
       "      <td>1/1/1996</td>\n",
       "      <td>3,569.59</td>\n",
       "    </tr>\n",
       "    <tr>\n",
       "      <th>43</th>\n",
       "      <td>Albania</td>\n",
       "      <td>Europe</td>\n",
       "      <td>1/1/2001</td>\n",
       "      <td>4,476.05</td>\n",
       "    </tr>\n",
       "    <tr>\n",
       "      <th>44</th>\n",
       "      <td>Albania</td>\n",
       "      <td>Europe</td>\n",
       "      <td>1/1/2006</td>\n",
       "      <td>5,652.05</td>\n",
       "    </tr>\n",
       "    <tr>\n",
       "      <th>45</th>\n",
       "      <td>Albania</td>\n",
       "      <td>Europe</td>\n",
       "      <td>1/1/2011</td>\n",
       "      <td>6,914.27</td>\n",
       "    </tr>\n",
       "    <tr>\n",
       "      <th>46</th>\n",
       "      <td>Algeria</td>\n",
       "      <td>Middle East, North Africa, and Greater Arabia</td>\n",
       "      <td>1/1/1901</td>\n",
       "      <td>1,807.76</td>\n",
       "    </tr>\n",
       "    <tr>\n",
       "      <th>47</th>\n",
       "      <td>Algeria</td>\n",
       "      <td>Middle East, North Africa, and Greater Arabia</td>\n",
       "      <td>1/1/1906</td>\n",
       "      <td>1,913.02</td>\n",
       "    </tr>\n",
       "    <tr>\n",
       "      <th>48</th>\n",
       "      <td>Algeria</td>\n",
       "      <td>Middle East, North Africa, and Greater Arabia</td>\n",
       "      <td>1/1/1911</td>\n",
       "      <td>2,024.41</td>\n",
       "    </tr>\n",
       "    <tr>\n",
       "      <th>49</th>\n",
       "      <td>Algeria</td>\n",
       "      <td>Middle East, North Africa, and Greater Arabia</td>\n",
       "      <td>1/1/1916</td>\n",
       "      <td>2,097.74</td>\n",
       "    </tr>\n",
       "  </tbody>\n",
       "</table>\n",
       "</div>"
      ],
      "text/plain": [
       "        Country                                         Region      Year  \\\n",
       "0   Afghanistan  Middle East, North Africa, and Greater Arabia  1/1/1901   \n",
       "1   Afghanistan  Middle East, North Africa, and Greater Arabia  1/1/1906   \n",
       "2   Afghanistan  Middle East, North Africa, and Greater Arabia  1/1/1911   \n",
       "3   Afghanistan  Middle East, North Africa, and Greater Arabia  1/1/1916   \n",
       "4   Afghanistan  Middle East, North Africa, and Greater Arabia  1/1/1921   \n",
       "5   Afghanistan  Middle East, North Africa, and Greater Arabia  1/1/1926   \n",
       "6   Afghanistan  Middle East, North Africa, and Greater Arabia  1/1/1931   \n",
       "7   Afghanistan  Middle East, North Africa, and Greater Arabia  1/1/1936   \n",
       "8   Afghanistan  Middle East, North Africa, and Greater Arabia  1/1/1941   \n",
       "9   Afghanistan  Middle East, North Africa, and Greater Arabia  1/1/1946   \n",
       "10  Afghanistan  Middle East, North Africa, and Greater Arabia  1/1/1951   \n",
       "11  Afghanistan  Middle East, North Africa, and Greater Arabia  1/1/1956   \n",
       "12  Afghanistan  Middle East, North Africa, and Greater Arabia  1/1/1961   \n",
       "13  Afghanistan  Middle East, North Africa, and Greater Arabia  1/1/1966   \n",
       "14  Afghanistan  Middle East, North Africa, and Greater Arabia  1/1/1971   \n",
       "15  Afghanistan  Middle East, North Africa, and Greater Arabia  1/1/1976   \n",
       "16  Afghanistan  Middle East, North Africa, and Greater Arabia  1/1/1981   \n",
       "17  Afghanistan  Middle East, North Africa, and Greater Arabia  1/1/1986   \n",
       "18  Afghanistan  Middle East, North Africa, and Greater Arabia  1/1/1991   \n",
       "19  Afghanistan  Middle East, North Africa, and Greater Arabia  1/1/1996   \n",
       "20  Afghanistan  Middle East, North Africa, and Greater Arabia  1/1/2001   \n",
       "21  Afghanistan  Middle East, North Africa, and Greater Arabia  1/1/2006   \n",
       "22  Afghanistan  Middle East, North Africa, and Greater Arabia  1/1/2011   \n",
       "23      Albania                                         Europe  1/1/1901   \n",
       "24      Albania                                         Europe  1/1/1906   \n",
       "25      Albania                                         Europe  1/1/1911   \n",
       "26      Albania                                         Europe  1/1/1916   \n",
       "27      Albania                                         Europe  1/1/1921   \n",
       "28      Albania                                         Europe  1/1/1926   \n",
       "29      Albania                                         Europe  1/1/1931   \n",
       "30      Albania                                         Europe  1/1/1936   \n",
       "31      Albania                                         Europe  1/1/1941   \n",
       "32      Albania                                         Europe  1/1/1946   \n",
       "33      Albania                                         Europe  1/1/1951   \n",
       "34      Albania                                         Europe  1/1/1956   \n",
       "35      Albania                                         Europe  1/1/1961   \n",
       "36      Albania                                         Europe  1/1/1966   \n",
       "37      Albania                                         Europe  1/1/1971   \n",
       "38      Albania                                         Europe  1/1/1976   \n",
       "39      Albania                                         Europe  1/1/1981   \n",
       "40      Albania                                         Europe  1/1/1986   \n",
       "41      Albania                                         Europe  1/1/1991   \n",
       "42      Albania                                         Europe  1/1/1996   \n",
       "43      Albania                                         Europe  1/1/2001   \n",
       "44      Albania                                         Europe  1/1/2006   \n",
       "45      Albania                                         Europe  1/1/2011   \n",
       "46      Algeria  Middle East, North Africa, and Greater Arabia  1/1/1901   \n",
       "47      Algeria  Middle East, North Africa, and Greater Arabia  1/1/1906   \n",
       "48      Algeria  Middle East, North Africa, and Greater Arabia  1/1/1911   \n",
       "49      Algeria  Middle East, North Africa, and Greater Arabia  1/1/1916   \n",
       "\n",
       "       GDP_pp   \n",
       "0      613.99   \n",
       "1      624.04   \n",
       "2      634.25   \n",
       "3      647.28   \n",
       "4      662.40   \n",
       "5      677.87   \n",
       "6      693.71   \n",
       "7      709.91   \n",
       "8      726.49   \n",
       "9      743.46   \n",
       "10     766.75   \n",
       "11     837.07   \n",
       "12     857.36   \n",
       "13     833.61   \n",
       "14     773.70   \n",
       "15     866.19   \n",
       "16     896.86   \n",
       "17   1,030.89   \n",
       "18     705.45   \n",
       "19     617.91   \n",
       "20     595.04   \n",
       "21     887.91   \n",
       "22   1,261.35   \n",
       "23   1,062.01   \n",
       "24   1,133.49   \n",
       "25   1,209.42   \n",
       "26   1,272.01   \n",
       "27   1,326.12   \n",
       "28   1,382.53   \n",
       "29   1,428.08   \n",
       "30   1,454.82   \n",
       "31   1,482.05   \n",
       "32   1,509.79   \n",
       "33   1,598.49   \n",
       "34   1,825.30   \n",
       "35   2,238.79   \n",
       "36   2,660.07   \n",
       "37   3,188.58   \n",
       "38   3,517.62   \n",
       "39   3,611.03   \n",
       "40   3,715.55   \n",
       "41   2,717.57   \n",
       "42   3,569.59   \n",
       "43   4,476.05   \n",
       "44   5,652.05   \n",
       "45   6,914.27   \n",
       "46   1,807.76   \n",
       "47   1,913.02   \n",
       "48   2,024.41   \n",
       "49   2,097.74   "
      ]
     },
     "execution_count": 75,
     "metadata": {},
     "output_type": "execute_result"
    }
   ],
   "source": [
    "df_gdp = pd.read_csv(\"GDP.csv\", decimal=\".\")\n",
    "df_gdp.head(50)"
   ]
  },
  {
   "cell_type": "markdown",
   "id": "suffering-guitar",
   "metadata": {},
   "source": [
    "- Limpe o conjunto de dados, convertendo strings em datas ou float, quando necessário."
   ]
  },
  {
   "cell_type": "code",
   "execution_count": 76,
   "id": "fundamental-occasions",
   "metadata": {},
   "outputs": [],
   "source": [
    "df_gdp['Year'] = pd.to_datetime(df_gdp['Year'], format=\"%d/%m/%Y\")\n",
    "df_gdp[\"gdp_pp\"] = df_gdp[\" GDP_pp \"].apply(lambda x: float(x.split(\" \")[1].replace(\",\", \"\")))\n",
    "del df_gdp[' GDP_pp ']"
   ]
  },
  {
   "cell_type": "markdown",
   "id": "studied-validity",
   "metadata": {},
   "source": [
    "- Você conseguiria informar o primeiro valor registrado de cada país?"
   ]
  },
  {
   "cell_type": "code",
   "execution_count": 77,
   "id": "frequent-rental",
   "metadata": {},
   "outputs": [],
   "source": [
    "first_ocorrency = df_gdp.groupby(\"Country\")[\"Year\"].min()"
   ]
  },
  {
   "cell_type": "code",
   "execution_count": 78,
   "id": "af301840",
   "metadata": {},
   "outputs": [
    {
     "data": {
      "text/plain": [
       "Country\n",
       "Kosovo   1991-01-01\n",
       "Name: Year, dtype: datetime64[ns]"
      ]
     },
     "execution_count": 78,
     "metadata": {},
     "output_type": "execute_result"
    }
   ],
   "source": [
    "df_gdp.groupby(\"Country\").min()[\"Year\"][df_gdp.groupby(\"Country\").min()[\"Year\"].dt.year == 1991]"
   ]
  },
  {
   "cell_type": "markdown",
   "id": "tutorial-softball",
   "metadata": {},
   "source": [
    "- Informe as regiões com maiores crescimentos de PIB per capita no século passado."
   ]
  },
  {
   "cell_type": "code",
   "execution_count": 79,
   "id": "given-colorado",
   "metadata": {},
   "outputs": [
    {
     "data": {
      "text/plain": [
       "Region\n",
       "Middle East, North Africa, and Greater Arabia    857.215950\n",
       "Asia                                             711.761516\n",
       "Europe                                           594.046167\n",
       "North America                                    589.760175\n",
       "Central America and the Caribbean                406.426789\n",
       "Australia and Oceania                            396.075383\n",
       "South America                                    312.123735\n",
       "Sub-Saharan Africa                               248.633780\n",
       "Name: gdp_pp, dtype: float64"
      ]
     },
     "execution_count": 79,
     "metadata": {},
     "output_type": "execute_result"
    }
   ],
   "source": [
    "df_gdp[df_gdp['Year'].dt.year < 2000]['Year'].max()\n",
    "\n",
    "df_gdp_start = df_gdp[df_gdp['Year'].dt.year == 1901]\n",
    "df_gdp_end = df_gdp[df_gdp['Year'].dt.year == 1996]\n",
    "\n",
    "(((df_gdp_end.groupby('Region')['gdp_pp'].mean() / df_gdp_start.groupby('Region')['gdp_pp'].mean()) - 1) * 100).sort_values(ascending=False)\n",
    "\n"
   ]
  }
 ],
 "metadata": {
  "kernelspec": {
   "display_name": "Python 3",
   "language": "python",
   "name": "python3"
  },
  "language_info": {
   "codemirror_mode": {
    "name": "ipython",
    "version": 3
   },
   "file_extension": ".py",
   "mimetype": "text/x-python",
   "name": "python",
   "nbconvert_exporter": "python",
   "pygments_lexer": "ipython3",
   "version": "3.12.3"
  }
 },
 "nbformat": 4,
 "nbformat_minor": 5
}
